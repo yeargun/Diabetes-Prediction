{
 "cells": [
  {
   "cell_type": "markdown",
   "metadata": {
    "colab_type": "text",
    "id": "hEQ1ErpCpGL8"
   },
   "source": [
    "<h1><center>BBM469 - Assignment 2 : Clustering and Classification with Python</center></h1> \n",
    "\n",
    "#### Student no : 21827775\n",
    "#### Student name : Ali Argun Sayılgan\n",
    "#### Student no : 21827723\n",
    "#### Student name : Cihad Özcan"
   ]
  },
  {
   "cell_type": "markdown",
   "metadata": {
    "colab_type": "text",
    "id": "8YmERLjspGMH"
   },
   "source": [
    "## Table of Content\n",
    "\n",
    "[Purpose](#purpose)   \n",
    "[Data Understanding](#data_understanding)   \n",
    "[Data Preparation](#data_preparation)   \n",
    "[Modeling for Clustering](#clusteringmodel)  \n",
    "[Clustering results](#clustering)    \n",
    "[Modeling for Classification](#classificationmodel)  \n",
    "[Evaluation](#evaluation)  \n",
    "[References](#references)   \n"
   ]
  },
  {
   "cell_type": "markdown",
   "metadata": {
    "colab_type": "text",
    "id": "clDpC-2kpGMR"
   },
   "source": [
    "## Purpose <a class=\"anchor\" id=\"purpose\"></a>"
   ]
  },
  {
   "cell_type": "markdown",
   "metadata": {
    "colab_type": "text",
    "id": "It7OxV2ypGMS"
   },
   "source": [
    "Describe the aim of this assigment here. What are the questions you are trying to solve?"
   ]
  },
  {
   "cell_type": "markdown",
   "metadata": {
    "colab_type": "text",
    "id": "JuZmF4SvpGMc"
   },
   "source": [
    "## Data Understanding<a class=\"anchor\" id=\"data_understanding\"></a>"
   ]
  },
  {
   "cell_type": "code",
   "execution_count": 21,
   "metadata": {
    "colab": {},
    "colab_type": "code",
    "id": "kJENPg1KpGMd"
   },
   "outputs": [
    {
     "name": "stdout",
     "output_type": "stream",
     "text": [
      "<class 'pandas.core.frame.DataFrame'>\n",
      "RangeIndex: 520 entries, 0 to 519\n",
      "Data columns (total 17 columns):\n",
      " #   Column              Non-Null Count  Dtype \n",
      "---  ------              --------------  ----- \n",
      " 0   age                 520 non-null    int64 \n",
      " 1   gender              520 non-null    object\n",
      " 2   polyuria            520 non-null    int64 \n",
      " 3   polydipsia          520 non-null    int64 \n",
      " 4   sudden_weight_loss  520 non-null    int64 \n",
      " 5   weakness            520 non-null    int64 \n",
      " 6   polyphagia          520 non-null    int64 \n",
      " 7   genital_thrush      520 non-null    int64 \n",
      " 8   visual_blurring     520 non-null    int64 \n",
      " 9   itching             520 non-null    int64 \n",
      " 10  irritability        520 non-null    int64 \n",
      " 11  delayed_healing     520 non-null    int64 \n",
      " 12  partial_paresis     520 non-null    int64 \n",
      " 13  muscle_stiffness    520 non-null    int64 \n",
      " 14  alopecia            520 non-null    int64 \n",
      " 15  obesity             520 non-null    int64 \n",
      " 16  class               520 non-null    int64 \n",
      "dtypes: int64(16), object(1)\n",
      "memory usage: 69.2+ KB\n",
      "None\n",
      "\n",
      "              age    polyuria  polydipsia  sudden_weight_loss    weakness  \\\n",
      "count  520.000000  520.000000  520.000000          520.000000  520.000000   \n",
      "mean    48.028846    0.496154    0.448077            0.417308    0.586538   \n",
      "std     12.151466    0.500467    0.497776            0.493589    0.492928   \n",
      "min     16.000000    0.000000    0.000000            0.000000    0.000000   \n",
      "25%     39.000000    0.000000    0.000000            0.000000    0.000000   \n",
      "50%     47.500000    0.000000    0.000000            0.000000    1.000000   \n",
      "75%     57.000000    1.000000    1.000000            1.000000    1.000000   \n",
      "max     90.000000    1.000000    1.000000            1.000000    1.000000   \n",
      "\n",
      "       polyphagia  genital_thrush  visual_blurring     itching  irritability  \\\n",
      "count  520.000000      520.000000       520.000000  520.000000    520.000000   \n",
      "mean     0.455769        0.223077         0.448077    0.486538      0.242308   \n",
      "std      0.498519        0.416710         0.497776    0.500300      0.428892   \n",
      "min      0.000000        0.000000         0.000000    0.000000      0.000000   \n",
      "25%      0.000000        0.000000         0.000000    0.000000      0.000000   \n",
      "50%      0.000000        0.000000         0.000000    0.000000      0.000000   \n",
      "75%      1.000000        0.000000         1.000000    1.000000      0.000000   \n",
      "max      1.000000        1.000000         1.000000    1.000000      1.000000   \n",
      "\n",
      "       delayed_healing  partial_paresis  muscle_stiffness    alopecia  \\\n",
      "count       520.000000       520.000000        520.000000  520.000000   \n",
      "mean          0.459615         0.430769          0.375000    0.344231   \n",
      "std           0.498846         0.495661          0.484589    0.475574   \n",
      "min           0.000000         0.000000          0.000000    0.000000   \n",
      "25%           0.000000         0.000000          0.000000    0.000000   \n",
      "50%           0.000000         0.000000          0.000000    0.000000   \n",
      "75%           1.000000         1.000000          1.000000    1.000000   \n",
      "max           1.000000         1.000000          1.000000    1.000000   \n",
      "\n",
      "          obesity       class  \n",
      "count  520.000000  520.000000  \n",
      "mean     0.169231    0.615385  \n",
      "std      0.375317    0.486973  \n",
      "min      0.000000    0.000000  \n",
      "25%      0.000000    0.000000  \n",
      "50%      0.000000    1.000000  \n",
      "75%      0.000000    1.000000  \n",
      "max      1.000000    1.000000  \n"
     ]
    }
   ],
   "source": [
    "import pandas as pd\n",
    "from sklearn.preprocessing import MinMaxScaler\n",
    "original_data = pd.read_csv(\"diabetes_data.csv\", sep=';')\n",
    "print(original_data.info(),end=\"\\n\\n\")\n",
    "print(original_data.describe())"
   ]
  },
  {
   "cell_type": "markdown",
   "metadata": {
    "colab_type": "text",
    "id": "nqcRgLxhpGMq"
   },
   "source": [
    "## Data Preparation<a class=\"anchor\" id=\"data_preparation\"></a>"
   ]
  },
  {
   "cell_type": "markdown",
   "metadata": {
    "colab_type": "text",
    "id": "iOGsFQmupGMj"
   },
   "source": [
    "There are no nas inside the dataset but in order to run clustering and classification methods, we must convert non numeric values to numeric using one-hot encoding\n"
   ]
  },
  {
   "cell_type": "code",
   "execution_count": 17,
   "metadata": {
    "colab": {},
    "colab_type": "code",
    "id": "Ap-mzlH1pGMs"
   },
   "outputs": [
    {
     "name": "stdout",
     "output_type": "stream",
     "text": [
      "Index(['age', 'polyuria', 'polydipsia', 'sudden_weight_loss', 'weakness',\n",
      "       'polyphagia', 'genital_thrush', 'visual_blurring', 'itching',\n",
      "       'irritability', 'delayed_healing', 'partial_paresis',\n",
      "       'muscle_stiffness', 'alopecia', 'obesity', 'class', 'male'],\n",
      "      dtype='object')\n"
     ]
    }
   ],
   "source": [
    "# Organize the dataset by converting categorical variable 'gender' into dummy/indicator variables\n",
    "dummies = pd.get_dummies(original_data['gender'], drop_first=True)\n",
    "dummies.columns = map(str.lower, dummies.columns) # Make columns named after genders lowercase\n",
    "\n",
    "# Save organized dataset as OD.csv\n",
    "OD = original_data.drop(columns='gender')\n",
    "OD = OD.join(dummies)\n",
    "print(OD.columns)\n",
    "# Save organized dataset as OD\n",
    "OD.to_csv('./Data/OD.csv', index=False, sep=';')"
   ]
  },
  {
   "cell_type": "markdown",
   "metadata": {
    "colab_type": "text",
    "id": "npkR3Wq7pGMx"
   },
   "source": [
    "And we need to normalize the dataset using min-max standardization, to create the normalized dataset (ND)\n",
    "The only column which isn't contain binary data is age column."
   ]
  },
  {
   "cell_type": "code",
   "execution_count": 23,
   "metadata": {
    "colab": {},
    "colab_type": "code",
    "id": "PXaCg0CJpGMy"
   },
   "outputs": [],
   "source": [
    "# Normalize the dataset by standardization of 'age' column\n",
    "ND = OD.copy(deep=True)\n",
    "scaler = MinMaxScaler()\n",
    "ND[['age']] = scaler.fit_transform(ND[['age']])\n",
    "\n",
    "# Save organized dataset as ND\n",
    "ND.to_csv('./Data/ND.csv', index=False, sep=';')"
   ]
  },
  {
   "cell_type": "markdown",
   "metadata": {
    "colab_type": "text",
    "id": "L5yg37-IpGM1"
   },
   "source": [
    "## Modeling for Clustering <a class=\"anchor\" id=\"clusteringmodel\"></a>"
   ]
  },
  {
   "cell_type": "code",
   "execution_count": 0,
   "metadata": {
    "colab": {},
    "colab_type": "code",
    "id": "85XeuwetpGM2"
   },
   "outputs": [],
   "source": []
  },
  {
   "cell_type": "markdown",
   "metadata": {
    "colab_type": "text",
    "id": "vXXqce-LpGM4"
   },
   "source": [
    "Which model will be used? Why? What parameters?"
   ]
  },
  {
   "cell_type": "markdown",
   "metadata": {
    "colab_type": "text",
    "id": "KdjxO3EF9QWy"
   },
   "source": [
    "## Clustering results<a class=\"anchor\" id=\"clustering\"></a>"
   ]
  },
  {
   "cell_type": "markdown",
   "metadata": {
    "colab_type": "text",
    "id": "9yoeXEZG9X3Q"
   },
   "source": [
    "Present the clustering results and graphs."
   ]
  },
  {
   "cell_type": "code",
   "execution_count": 0,
   "metadata": {
    "colab": {},
    "colab_type": "code",
    "id": "AhZqLaTy9lC0"
   },
   "outputs": [],
   "source": []
  },
  {
   "cell_type": "markdown",
   "metadata": {
    "colab_type": "text",
    "id": "86MgAti_9ljX"
   },
   "source": [
    "Evaluate your Clustering model. Provide results, tables, charts, etc."
   ]
  },
  {
   "cell_type": "markdown",
   "metadata": {
    "colab_type": "text",
    "id": "2ebDW7Pl9xkV"
   },
   "source": [
    "\n",
    "## Modeling for Classification <a class=\"anchor\" id=\"classificationmodel\"></a>"
   ]
  },
  {
   "cell_type": "code",
   "execution_count": 0,
   "metadata": {
    "colab": {},
    "colab_type": "code",
    "id": "f0t3y0Gh-iY8"
   },
   "outputs": [],
   "source": []
  },
  {
   "cell_type": "markdown",
   "metadata": {
    "colab_type": "text",
    "id": "osXXZDxS-hVD"
   },
   "source": [
    "Which model will be used? Why? What parameters?"
   ]
  },
  {
   "cell_type": "markdown",
   "metadata": {
    "colab_type": "text",
    "id": "1Vxg2ptipGNZ"
   },
   "source": [
    "## Evaluation<a class=\"anchor\" id=\"evaluation\"></a>"
   ]
  },
  {
   "cell_type": "code",
   "execution_count": 0,
   "metadata": {
    "colab": {},
    "colab_type": "code",
    "id": "jpLkiP1xpGNa"
   },
   "outputs": [],
   "source": []
  },
  {
   "cell_type": "markdown",
   "metadata": {
    "colab_type": "text",
    "id": "OA-dJVmFpGNy"
   },
   "source": [
    "Evaluate your model. Provide results, tables, charts, etc."
   ]
  },
  {
   "cell_type": "code",
   "execution_count": 0,
   "metadata": {
    "colab": {},
    "colab_type": "code",
    "id": "qREn94uEpGNy"
   },
   "outputs": [],
   "source": []
  },
  {
   "cell_type": "markdown",
   "metadata": {
    "colab_type": "text",
    "id": "e-4dIZj6pGN4"
   },
   "source": [
    "## References<a class=\"anchor\" id=\"references\"></a>"
   ]
  },
  {
   "cell_type": "code",
   "execution_count": 0,
   "metadata": {
    "colab": {},
    "colab_type": "code",
    "id": "2LhJNQYopGN5"
   },
   "outputs": [],
   "source": []
  },
  {
   "cell_type": "markdown",
   "metadata": {
    "colab_type": "text",
    "id": "i9WaoKuZpGN_"
   },
   "source": [
    "List all the sources you used during your work.\n",
    "This includes jupyter notebooks you found on Internet.\n",
    "Remeber, your work may not be an original one. However, this document must be genuine. Copy and paste kind of deliveries will be punished badly."
   ]
  },
  {
   "cell_type": "code",
   "execution_count": 0,
   "metadata": {
    "colab": {},
    "colab_type": "code",
    "id": "g9j2kMIPpGOA"
   },
   "outputs": [],
   "source": []
  },
  {
   "cell_type": "markdown",
   "metadata": {
    "colab_type": "text",
    "id": "qe-ObfH2pGOH"
   },
   "source": [
    "\n",
    "**Disclaimer!** <font color='grey'>This notebook was prepared by <student name(s)> as an assigment for the *BBM469 - Data Intensive Applications Laboratory* class. The notebook is available for educational purposes only. There is no guarantee on the correctness of the content provided as it is a student work.\n",
    "\n",
    "If you think there is any copyright violation, please let us [know](https://forms.gle/BNNRB2kR8ZHVEREq8). \n",
    "</font>"
   ]
  }
 ],
 "metadata": {
  "colab": {
   "name": "bbm469_hw3_template.ipynb",
   "provenance": []
  },
  "kernelspec": {
   "display_name": "Python 3 (ipykernel)",
   "language": "python",
   "name": "python3"
  },
  "language_info": {
   "codemirror_mode": {
    "name": "ipython",
    "version": 3
   },
   "file_extension": ".py",
   "mimetype": "text/x-python",
   "name": "python",
   "nbconvert_exporter": "python",
   "pygments_lexer": "ipython3",
   "version": "3.9.7"
  }
 },
 "nbformat": 4,
 "nbformat_minor": 1
}
