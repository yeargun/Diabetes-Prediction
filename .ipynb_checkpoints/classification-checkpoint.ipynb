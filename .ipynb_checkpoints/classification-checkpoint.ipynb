{
 "cells": [
  {
   "cell_type": "markdown",
   "id": "c01a41c2-b630-4d42-9055-38cdbdeefa49",
   "metadata": {},
   "source": [
    "<h1><center>Assignment 2 : Clustering and Classification with Python</center></h1> \n",
    "\n",
    "## Part 3 : Classification"
   ]
  },
  {
   "cell_type": "code",
   "execution_count": 1,
   "id": "1a6e30a3-ce8a-4dd6-a938-35c66da86203",
   "metadata": {},
   "outputs": [],
   "source": [
    "import pandas as pd\n",
    "import numpy as np\n",
    "from sklearn.model_selection import train_test_split, GridSearchCV\n",
    "from sklearn.ensemble import RandomForestClassifier\n",
    "from sklearn.metrics import classification_report, mean_absolute_error, plot_roc_curve, plot_precision_recall_curve"
   ]
  },
  {
   "cell_type": "code",
   "execution_count": 2,
   "id": "6aad88ba-b819-4171-8937-6eae8b9be42a",
   "metadata": {},
   "outputs": [],
   "source": [
    "# Read normalized and organized datasets\n",
    "ND = pd.read_csv('./Data/ND.csv', delimiter=';')\n",
    "OD = pd.read_csv('./Data/OD.csv', delimiter=';')"
   ]
  },
  {
   "cell_type": "code",
   "execution_count": null,
   "id": "06881dfb-992c-4dfa-b7de-f70afa16c140",
   "metadata": {},
   "outputs": [],
   "source": []
  }
 ],
 "metadata": {
  "kernelspec": {
   "display_name": "Python 3 (ipykernel)",
   "language": "python",
   "name": "python3"
  },
  "language_info": {
   "codemirror_mode": {
    "name": "ipython",
    "version": 3
   },
   "file_extension": ".py",
   "mimetype": "text/x-python",
   "name": "python",
   "nbconvert_exporter": "python",
   "pygments_lexer": "ipython3",
   "version": "3.9.7"
  },
  "toc-autonumbering": false,
  "toc-showcode": false
 },
 "nbformat": 4,
 "nbformat_minor": 5
}
