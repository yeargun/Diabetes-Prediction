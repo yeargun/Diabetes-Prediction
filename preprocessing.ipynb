{
 "cells": [
  {
   "cell_type": "markdown",
   "id": "c01a41c2-b630-4d42-9055-38cdbdeefa49",
   "metadata": {},
   "source": [
    "<h1><center>Assignment 2 : Clustering and Classification with Python</center></h1> \n",
    "\n",
    "## Part 1 : Data Preprocessing"
   ]
  },
  {
   "cell_type": "code",
   "execution_count": 42,
   "id": "1a6e30a3-ce8a-4dd6-a938-35c66da86203",
   "metadata": {},
   "outputs": [],
   "source": [
    "import pandas as pd\n",
    "import numpy as np \n",
    "from sklearn.preprocessing import MinMaxScaler"
   ]
  },
  {
   "cell_type": "code",
   "execution_count": 43,
   "id": "2e646aa3-36ec-4bce-8ec1-4b134c77eb64",
   "metadata": {},
   "outputs": [
    {
     "name": "stdout",
     "output_type": "stream",
     "text": [
      "<class 'pandas.core.frame.DataFrame'>\n",
      "RangeIndex: 520 entries, 0 to 519\n",
      "Data columns (total 17 columns):\n",
      " #   Column              Non-Null Count  Dtype \n",
      "---  ------              --------------  ----- \n",
      " 0   age                 520 non-null    int64 \n",
      " 1   gender              520 non-null    object\n",
      " 2   polyuria            520 non-null    int64 \n",
      " 3   polydipsia          520 non-null    int64 \n",
      " 4   sudden_weight_loss  520 non-null    int64 \n",
      " 5   weakness            520 non-null    int64 \n",
      " 6   polyphagia          520 non-null    int64 \n",
      " 7   genital_thrush      520 non-null    int64 \n",
      " 8   visual_blurring     520 non-null    int64 \n",
      " 9   itching             520 non-null    int64 \n",
      " 10  irritability        520 non-null    int64 \n",
      " 11  delayed_healing     520 non-null    int64 \n",
      " 12  partial_paresis     520 non-null    int64 \n",
      " 13  muscle_stiffness    520 non-null    int64 \n",
      " 14  alopecia            520 non-null    int64 \n",
      " 15  obesity             520 non-null    int64 \n",
      " 16  class               520 non-null    int64 \n",
      "dtypes: int64(16), object(1)\n",
      "memory usage: 69.2+ KB\n"
     ]
    }
   ],
   "source": [
    "original_data = pd.read_csv('./Data/diabetes_data.csv', delimiter=';')\n",
    "original_data.info() # There is no missing values in dataset"
   ]
  },
  {
   "cell_type": "code",
   "execution_count": 44,
   "id": "6aad88ba-b819-4171-8937-6eae8b9be42a",
   "metadata": {},
   "outputs": [],
   "source": [
    "# Organize the dataset by converting categorical variable 'gender' into dummy/indicator variables\n",
    "dummies = pd.get_dummies(original_data['gender'])\n",
    "dummies.columns = map(str.lower, dummies.columns) # Make columns named after genders lowercase\n",
    "\n",
    "# Save organized dataset as OD.csv\n",
    "OD = original_data.drop(columns='gender')\n",
    "OD = OD.join(dummies)\n",
    "# Save organized dataset as OD\n",
    "OD.to_csv('./Data/OD.csv', index=False, sep=';')"
   ]
  },
  {
   "cell_type": "code",
   "execution_count": 45,
   "id": "dd6c6b4a-3a82-4700-8b63-649e90cd04c2",
   "metadata": {},
   "outputs": [],
   "source": [
    "# Normalize the dataset by standardization of 'age' column\n",
    "ND = OD.copy(deep=True)\n",
    "scaler = MinMaxScaler()\n",
    "ND[['age']] = scaler.fit_transform(df[['age']])\n",
    "\n",
    "# Save organized dataset as ND\n",
    "ND.to_csv('./Data/ND.csv', index=False, sep=';')"
   ]
  },
  {
   "cell_type": "code",
   "execution_count": null,
   "id": "b0f18580-ec99-4d00-abef-f994a75df53c",
   "metadata": {},
   "outputs": [],
   "source": []
  }
 ],
 "metadata": {
  "kernelspec": {
   "display_name": "Python 3 (ipykernel)",
   "language": "python",
   "name": "python3"
  },
  "language_info": {
   "codemirror_mode": {
    "name": "ipython",
    "version": 3
   },
   "file_extension": ".py",
   "mimetype": "text/x-python",
   "name": "python",
   "nbconvert_exporter": "python",
   "pygments_lexer": "ipython3",
   "version": "3.9.7"
  },
  "toc-autonumbering": false,
  "toc-showcode": false
 },
 "nbformat": 4,
 "nbformat_minor": 5
}
